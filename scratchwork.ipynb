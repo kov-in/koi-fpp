{
 "cells": [
  {
   "cell_type": "code",
   "execution_count": 1,
   "metadata": {
    "collapsed": false
   },
   "outputs": [
    {
     "name": "stdout",
     "output_type": "stream",
     "text": [
      "\r\n",
      "11446443|K00001.01|pp_koi_period|2.47\r\n",
      "11446443|K00001.01|pp_koi_time0bk|132.6457\r\n",
      "11446443|K00001.01|pp_koi_depth|14195\r\n",
      "11446443|K00001.01|pp_host_rel_prob|1\r\n",
      "11446443|K00001.01|pp_host_prior_prob|0.92\r\n",
      "11446443|K00001.01|pp_host_prob_prov|PROB\r\n",
      "11446443|K00001.01|pp_host_prob_score|1.00\r\n",
      "11446443|K00001.01|pp_1hi_starid|KIC 11446443\r\n",
      "11446443|K00001.01|pp_1hi_ra|286.8085\r\n"
     ]
    }
   ],
   "source": [
    "!head probability_table_hammer.txt"
   ]
  },
  {
   "cell_type": "code",
   "execution_count": 19,
   "metadata": {
    "collapsed": false
   },
   "outputs": [
    {
     "name": "stdout",
     "output_type": "stream",
     "text": [
      "Overwriting organize_positional_probtable.py\n"
     ]
    }
   ],
   "source": [
    "%%file organize_positional_probtable.py\n",
    "\n",
    "import numpy as np\n",
    "import pandas as pd\n",
    "\n",
    "d = {}\n",
    "\n",
    "for line in open('probability_table_hammer.txt'):\n",
    "    line = line.split('|')\n",
    "    try:\n",
    "        line[3] = line[3].strip()\n",
    "        if line[1] not in d:\n",
    "            d[line[1]] = {}\n",
    "        if line[3]=='NULL':\n",
    "            val = np.nan\n",
    "        else:\n",
    "            try:\n",
    "                val = float(line[3])\n",
    "            except ValueError:\n",
    "                val = line[3]\n",
    "        d[line[1]][line[2]] = val\n",
    "    except:\n",
    "        print('error with {}'.format(line))\n",
    "        \n",
    "df = pd.DataFrame.from_dict(d, orient='index')\n",
    "\n",
    "df.to_csv('positional_probability.csv')"
   ]
  },
  {
   "cell_type": "code",
   "execution_count": 20,
   "metadata": {
    "collapsed": false
   },
   "outputs": [
    {
     "name": "stdout",
     "output_type": "stream",
     "text": [
      "error with ['\\n']\r\n"
     ]
    }
   ],
   "source": [
    "!python organize_positional_probtable.py"
   ]
  },
  {
   "cell_type": "code",
   "execution_count": 21,
   "metadata": {
    "collapsed": false
   },
   "outputs": [
    {
     "name": "stdout",
     "output_type": "stream",
     "text": [
      ",pp_host_prob_prov,pp_1hi_starid,pp_2rel_prob,pp_1prob_prov,pp_unk_rel_prob,pp_1hi_ra,pp_1rel_prob,pp_2hi_starid,pp_1mod_depth,pp_dv_run_id,pp_host_prob_score,pp_host_prior_prob,pp_2mod_depth,pp_koi_time0bk,pp_2hi_dec,pp_koi_period,pp_host_rel_prob,pp_bkgd_density,pp_2prob_prov,pp_1hi_dec,pp_koi_depth,pp_2hi_ra,pp_1hi_kepmag,pp_2hi_kepmag\r\n",
      "K00001.01,PROB,KIC 11446443,,KIC,9.91e-07,286.8085,1.0,,97137.0,q1_q17_dr24_tce,1.0,0.92,,132.6457,,2.47,1.0,2.693e-06,,49.3164,14195.0,,11.34,\r\n",
      "K00002.01,FAILED,,,,,,,,,q1_q17_dr24_tce,0.0,0.87,,,,,,,,,,,,\r\n",
      "K00003.01,FAILED,,,,,,,,,q1_q17_dr24_tce,0.0,0.8,,,,,,,,,,,,\r\n",
      "K00004.01,PROB,KIC 3861595,0.0,KIC,1.304e-06,294.3566,1.0,UKIRT 44117919246215,9640.0,q1_q17_dr24_tce,1.0,0.74,673793.0,134.4293,38.9476,3.85,1.0,1.103e-05,UKIRT,38.9474,1270.0,294.3577,11.43,16.0\r\n",
      "K00005.01,PROB,KIC 8554498,,KIC,2.21e-06,289.7397,1.0,,7572.0,q1_q17_dr24_tce,1.0,0.87,,132.9731,,4.78,1.0,4.475e-06,,44.6474,933.0,,11.66,\r\n",
      "K00006.01,MATCH,,,,,,,,,q1_q17_dr24_tce,1.0,0.72,,,,,0.0,,,,,,,\r\n",
      "K00007.01,PROB,KIC 11853905,,KIC,3.088e-07,285.6153,1.0,,4656.0,q1_q17_dr24_tce,1.0,0.93,,133.2531,,3.21,1.0,2.935e-06,,50.1358,733.0,,12.21,\r\n",
      "K00008.01,PROB,KIC 5903301,0.0,KIC,2.162e-05,298.6583,1.0,KIC 5903312,103581.0,q1_q17_dr24_tce,1.0,0.67,2746.0,132.1478,41.1379,1.16,0.0,1.707e-05,KIC,41.1389,128.0,298.661,15.15,12.45\r\n",
      "K00009.01,PROB,KIC 11553706,,KIC,1.798e-05,288.8038,0.0,,29282.0,q1_q17_dr24_tce,1.0,0.91,,135.0682,,3.72,0.0,4.379e-06,,49.5308,3618.0,,13.12,\r\n"
     ]
    }
   ],
   "source": [
    "!head positional_probability.csv"
   ]
  },
  {
   "cell_type": "code",
   "execution_count": 24,
   "metadata": {
    "collapsed": true
   },
   "outputs": [],
   "source": [
    "df = pd.read_csv('positional_probability.csv', index_col=0)"
   ]
  },
  {
   "cell_type": "code",
   "execution_count": 27,
   "metadata": {
    "collapsed": false
   },
   "outputs": [
    {
     "data": {
      "text/html": [
       "<div style=\"max-height:1000px;max-width:1500px;overflow:auto;\">\n",
       "<table border=\"1\" class=\"dataframe\">\n",
       "  <thead>\n",
       "    <tr style=\"text-align: right;\">\n",
       "      <th></th>\n",
       "      <th>pp_host_rel_prob</th>\n",
       "      <th>pp_host_prob_score</th>\n",
       "    </tr>\n",
       "  </thead>\n",
       "  <tbody>\n",
       "    <tr>\n",
       "      <th>K00001.01</th>\n",
       "      <td>1</td>\n",
       "      <td>1</td>\n",
       "    </tr>\n",
       "    <tr>\n",
       "      <th>K00002.01</th>\n",
       "      <td>NaN</td>\n",
       "      <td>0</td>\n",
       "    </tr>\n",
       "    <tr>\n",
       "      <th>K00003.01</th>\n",
       "      <td>NaN</td>\n",
       "      <td>0</td>\n",
       "    </tr>\n",
       "    <tr>\n",
       "      <th>K00004.01</th>\n",
       "      <td>1</td>\n",
       "      <td>1</td>\n",
       "    </tr>\n",
       "    <tr>\n",
       "      <th>K00005.01</th>\n",
       "      <td>1</td>\n",
       "      <td>1</td>\n",
       "    </tr>\n",
       "    <tr>\n",
       "      <th>K00006.01</th>\n",
       "      <td>0</td>\n",
       "      <td>1</td>\n",
       "    </tr>\n",
       "    <tr>\n",
       "      <th>K00007.01</th>\n",
       "      <td>1</td>\n",
       "      <td>1</td>\n",
       "    </tr>\n",
       "    <tr>\n",
       "      <th>K00008.01</th>\n",
       "      <td>0</td>\n",
       "      <td>1</td>\n",
       "    </tr>\n",
       "    <tr>\n",
       "      <th>K00009.01</th>\n",
       "      <td>0</td>\n",
       "      <td>1</td>\n",
       "    </tr>\n",
       "    <tr>\n",
       "      <th>K00010.01</th>\n",
       "      <td>1</td>\n",
       "      <td>1</td>\n",
       "    </tr>\n",
       "  </tbody>\n",
       "</table>\n",
       "</div>"
      ],
      "text/plain": [
       "           pp_host_rel_prob  pp_host_prob_score\n",
       "K00001.01                 1                   1\n",
       "K00002.01               NaN                   0\n",
       "K00003.01               NaN                   0\n",
       "K00004.01                 1                   1\n",
       "K00005.01                 1                   1\n",
       "K00006.01                 0                   1\n",
       "K00007.01                 1                   1\n",
       "K00008.01                 0                   1\n",
       "K00009.01                 0                   1\n",
       "K00010.01                 1                   1"
      ]
     },
     "execution_count": 27,
     "metadata": {},
     "output_type": "execute_result"
    }
   ],
   "source": [
    "df[['pp_host_rel_prob', 'pp_host_prob_score']].head(10)"
   ]
  },
  {
   "cell_type": "code",
   "execution_count": null,
   "metadata": {
    "collapsed": true
   },
   "outputs": [],
   "source": []
  }
 ],
 "metadata": {
  "kernelspec": {
   "display_name": "Python 2",
   "language": "python",
   "name": "python2"
  },
  "language_info": {
   "codemirror_mode": {
    "name": "ipython",
    "version": 2
   },
   "file_extension": ".py",
   "mimetype": "text/x-python",
   "name": "python",
   "nbconvert_exporter": "python",
   "pygments_lexer": "ipython2",
   "version": "2.7.10"
  }
 },
 "nbformat": 4,
 "nbformat_minor": 0
}
