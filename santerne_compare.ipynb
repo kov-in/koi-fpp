{
 "cells": [
  {
   "cell_type": "code",
   "execution_count": 1,
   "metadata": {
    "collapsed": false
   },
   "outputs": [
    {
     "data": {
      "text/plain": [
       "koi.1                    8826\n",
       "rprs                     8440\n",
       "secthresh                8440\n",
       "maxrad                   8440\n",
       "pr_heb                   8145\n",
       "pr_heb_Px2               8145\n",
       "pr_eb                    8145\n",
       "pr_eb_Px2                8145\n",
       "pr_beb                   8145\n",
       "pr_beb_Px2               8145\n",
       "L_tot                    8148\n",
       "fp                       8148\n",
       "FPP                      8145\n",
       "kepid                    8616\n",
       "period                   8616\n",
       "rp                       8321\n",
       "disposition              8616\n",
       "prob_ontarget            6786\n",
       "pos_prob_score           7470\n",
       "not_transitlike          8826\n",
       "significant_secondary    8826\n",
       "centroid_offset          8826\n",
       "ephem_match              8826\n",
       "MES                      7260\n",
       "exception                 678\n",
       "has_ttv                  8556\n",
       "dtype: int64"
      ]
     },
     "execution_count": 1,
     "metadata": {},
     "output_type": "execute_result"
    }
   ],
   "source": [
    "import numpy as np\n",
    "import pandas as pd\n",
    "\n",
    "fpp_all = pd.read_csv('fpp_final_table.csv', index_col=0)\n",
    "fpp_all.count()"
   ]
  },
  {
   "cell_type": "code",
   "execution_count": 40,
   "metadata": {
    "collapsed": false
   },
   "outputs": [],
   "source": [
    "columns = ['kepid', 'koi', 'kepler_pl', 'period','depth','aR','Kp',\n",
    "           'Teff','logg','feh','nature','reference']\n",
    "\n",
    "from keputils.koiutils import koiname\n",
    "santerne = pd.read_table('TargetSelection.tex', delimiter='\\s*&\\s*',\n",
    "                        names=columns)\n",
    "santerne['koi'] = santerne.koi.apply(koiname)\n",
    "santerne['FPP'] = fpp_all.ix[santerne.koi,'FPP'].values"
   ]
  },
  {
   "cell_type": "code",
   "execution_count": 41,
   "metadata": {
    "collapsed": false
   },
   "outputs": [
    {
     "data": {
      "text/html": [
       "<div>\n",
       "<table border=\"1\" class=\"dataframe\">\n",
       "  <thead>\n",
       "    <tr style=\"text-align: right;\">\n",
       "      <th></th>\n",
       "      <th>koi</th>\n",
       "      <th>nature</th>\n",
       "      <th>FPP</th>\n",
       "    </tr>\n",
       "  </thead>\n",
       "  <tbody>\n",
       "    <tr>\n",
       "      <th>0</th>\n",
       "      <td>K00001.01</td>\n",
       "      <td>planet</td>\n",
       "      <td>1.560000e-02</td>\n",
       "    </tr>\n",
       "    <tr>\n",
       "      <th>1</th>\n",
       "      <td>K00002.01</td>\n",
       "      <td>planet</td>\n",
       "      <td>2.090000e-07</td>\n",
       "    </tr>\n",
       "    <tr>\n",
       "      <th>2</th>\n",
       "      <td>K00003.01</td>\n",
       "      <td>planet</td>\n",
       "      <td>8.340000e-05</td>\n",
       "    </tr>\n",
       "    <tr>\n",
       "      <th>3</th>\n",
       "      <td>K00010.01</td>\n",
       "      <td>planet</td>\n",
       "      <td>8.450000e-06</td>\n",
       "    </tr>\n",
       "    <tr>\n",
       "      <th>4</th>\n",
       "      <td>K00012.01</td>\n",
       "      <td>planet</td>\n",
       "      <td>1.500000e-02</td>\n",
       "    </tr>\n",
       "  </tbody>\n",
       "</table>\n",
       "</div>"
      ],
      "text/plain": [
       "         koi  nature           FPP\n",
       "0  K00001.01  planet  1.560000e-02\n",
       "1  K00002.01  planet  2.090000e-07\n",
       "2  K00003.01  planet  8.340000e-05\n",
       "3  K00010.01  planet  8.450000e-06\n",
       "4  K00012.01  planet  1.500000e-02"
      ]
     },
     "execution_count": 41,
     "metadata": {},
     "output_type": "execute_result"
    }
   ],
   "source": [
    "santerne[['koi','nature','FPP']].head()"
   ]
  },
  {
   "cell_type": "code",
   "execution_count": 50,
   "metadata": {
    "collapsed": false
   },
   "outputs": [
    {
     "name": "stdout",
     "output_type": "stream",
     "text": [
      "nature\n",
      "?         0.194506\n",
      "BD        0.001406\n",
      "CEB       0.666857\n",
      "EB        0.776810\n",
      "planet    0.106562\n",
      "Name: FPP, dtype: float64\n",
      "nature\n",
      "?         0.002660\n",
      "BD        0.000848\n",
      "CEB       0.991000\n",
      "EB        0.966500\n",
      "planet    0.000242\n",
      "Name: FPP, dtype: float64\n"
     ]
    }
   ],
   "source": [
    "print santerne.groupby('nature')['FPP'].mean()\n",
    "print santerne.groupby('nature')['FPP'].median()"
   ]
  },
  {
   "cell_type": "code",
   "execution_count": 46,
   "metadata": {
    "collapsed": false
   },
   "outputs": [
    {
     "data": {
      "text/plain": [
       "0.41968902067324709"
      ]
     },
     "execution_count": 46,
     "metadata": {},
     "output_type": "execute_result"
    }
   ],
   "source": [
    "santerne['FPP'].mean()"
   ]
  },
  {
   "cell_type": "code",
   "execution_count": null,
   "metadata": {
    "collapsed": true
   },
   "outputs": [],
   "source": []
  }
 ],
 "metadata": {
  "kernelspec": {
   "display_name": "Python 2",
   "language": "python",
   "name": "python2"
  },
  "language_info": {
   "codemirror_mode": {
    "name": "ipython",
    "version": 2
   },
   "file_extension": ".py",
   "mimetype": "text/x-python",
   "name": "python",
   "nbconvert_exporter": "python",
   "pygments_lexer": "ipython2",
   "version": "2.7.10"
  }
 },
 "nbformat": 4,
 "nbformat_minor": 0
}
