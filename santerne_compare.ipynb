{
 "cells": [
  {
   "cell_type": "code",
   "execution_count": 1,
   "metadata": {
    "collapsed": false
   },
   "outputs": [
    {
     "data": {
      "text/plain": [
       "koi.1                    7470\n",
       "rprs                     7202\n",
       "secthresh                7202\n",
       "maxrad                   7202\n",
       "lhood_heb                7056\n",
       "pr_heb                   7056\n",
       "lhood_heb_Px2            7056\n",
       "pr_heb_Px2               7056\n",
       "lhood_eb                 7056\n",
       "pr_eb                    7056\n",
       "lhood_eb_Px2             7056\n",
       "pr_eb_Px2                7056\n",
       "lhood_beb                7056\n",
       "pr_beb                   7056\n",
       "lhood_beb_Px2            7056\n",
       "pr_beb_Px2               7056\n",
       "lhood_boxy               7055\n",
       "pr_boxy                  7055\n",
       "lhood_long               7055\n",
       "pr_long                  7055\n",
       "lhood_pl                 7056\n",
       "pr_pl                    7056\n",
       "lhood_tot                7043\n",
       "fp                       7043\n",
       "FPP                      7056\n",
       "kepid                    7470\n",
       "period                   7470\n",
       "rp                       7128\n",
       "disposition              7470\n",
       "prob_ontarget            6790\n",
       "pos_prob_score           7470\n",
       "not_transitlike          7470\n",
       "significant_secondary    7470\n",
       "centroid_offset          7470\n",
       "ephem_match              7470\n",
       "MES                      7470\n",
       "exception                 427\n",
       "has_ttv                  7268\n",
       "n_cands                  7470\n",
       "FPP_max                  7056\n",
       "FPP_std                  7056\n",
       "dtype: int64"
      ]
     },
     "execution_count": 1,
     "metadata": {},
     "output_type": "execute_result"
    }
   ],
   "source": [
    "import numpy as np\n",
    "import pandas as pd\n",
    "\n",
    "fpp_all = pd.read_csv('fpp_final_table.csv', index_col=0)\n",
    "fpp_all.count()"
   ]
  },
  {
   "cell_type": "code",
   "execution_count": 2,
   "metadata": {
    "collapsed": false
   },
   "outputs": [
    {
     "name": "stderr",
     "output_type": "stream",
     "text": [
      "/Users/tdm/anaconda/lib/python2.7/site-packages/pandas/io/parsers.py:648: ParserWarning: Falling back to the 'python' engine because the 'c' engine does not support regex separators; you can avoid this warning by specifying engine='python'.\n",
      "  ParserWarning)\n"
     ]
    }
   ],
   "source": [
    "columns = ['kepid', 'koi', 'kepler_pl', 'period','depth','aR','Kp',\n",
    "           'Teff','logg','feh','nature','reference']\n",
    "\n",
    "from keputils.koiutils import koiname\n",
    "santerne = pd.read_table('TargetSelection.tex', delimiter='\\s*&\\s*',\n",
    "                        names=columns)\n",
    "santerne['koi'] = santerne.koi.apply(koiname)\n",
    "santerne['FPP'] = fpp_all.ix[santerne.koi,'FPP'].values"
   ]
  },
  {
   "cell_type": "code",
   "execution_count": 3,
   "metadata": {
    "collapsed": false
   },
   "outputs": [
    {
     "data": {
      "text/html": [
       "<div>\n",
       "<table border=\"1\" class=\"dataframe\">\n",
       "  <thead>\n",
       "    <tr style=\"text-align: right;\">\n",
       "      <th></th>\n",
       "      <th>kepid</th>\n",
       "      <th>koi</th>\n",
       "      <th>kepler_pl</th>\n",
       "      <th>period</th>\n",
       "      <th>depth</th>\n",
       "      <th>aR</th>\n",
       "      <th>Kp</th>\n",
       "      <th>Teff</th>\n",
       "      <th>logg</th>\n",
       "      <th>feh</th>\n",
       "      <th>reference</th>\n",
       "      <th>FPP</th>\n",
       "    </tr>\n",
       "    <tr>\n",
       "      <th>nature</th>\n",
       "      <th></th>\n",
       "      <th></th>\n",
       "      <th></th>\n",
       "      <th></th>\n",
       "      <th></th>\n",
       "      <th></th>\n",
       "      <th></th>\n",
       "      <th></th>\n",
       "      <th></th>\n",
       "      <th></th>\n",
       "      <th></th>\n",
       "      <th></th>\n",
       "    </tr>\n",
       "  </thead>\n",
       "  <tbody>\n",
       "    <tr>\n",
       "      <th>?</th>\n",
       "      <td>18</td>\n",
       "      <td>18</td>\n",
       "      <td>18</td>\n",
       "      <td>18</td>\n",
       "      <td>18</td>\n",
       "      <td>18</td>\n",
       "      <td>18</td>\n",
       "      <td>18</td>\n",
       "      <td>18</td>\n",
       "      <td>18</td>\n",
       "      <td>18</td>\n",
       "      <td>18</td>\n",
       "    </tr>\n",
       "    <tr>\n",
       "      <th>BD</th>\n",
       "      <td>3</td>\n",
       "      <td>3</td>\n",
       "      <td>3</td>\n",
       "      <td>3</td>\n",
       "      <td>3</td>\n",
       "      <td>3</td>\n",
       "      <td>3</td>\n",
       "      <td>3</td>\n",
       "      <td>3</td>\n",
       "      <td>3</td>\n",
       "      <td>3</td>\n",
       "      <td>3</td>\n",
       "    </tr>\n",
       "    <tr>\n",
       "      <th>CEB</th>\n",
       "      <td>15</td>\n",
       "      <td>15</td>\n",
       "      <td>15</td>\n",
       "      <td>15</td>\n",
       "      <td>15</td>\n",
       "      <td>15</td>\n",
       "      <td>15</td>\n",
       "      <td>15</td>\n",
       "      <td>15</td>\n",
       "      <td>15</td>\n",
       "      <td>15</td>\n",
       "      <td>13</td>\n",
       "    </tr>\n",
       "    <tr>\n",
       "      <th>EB</th>\n",
       "      <td>48</td>\n",
       "      <td>48</td>\n",
       "      <td>48</td>\n",
       "      <td>48</td>\n",
       "      <td>48</td>\n",
       "      <td>48</td>\n",
       "      <td>48</td>\n",
       "      <td>48</td>\n",
       "      <td>48</td>\n",
       "      <td>48</td>\n",
       "      <td>48</td>\n",
       "      <td>43</td>\n",
       "    </tr>\n",
       "    <tr>\n",
       "      <th>planet</th>\n",
       "      <td>45</td>\n",
       "      <td>45</td>\n",
       "      <td>45</td>\n",
       "      <td>45</td>\n",
       "      <td>45</td>\n",
       "      <td>45</td>\n",
       "      <td>45</td>\n",
       "      <td>45</td>\n",
       "      <td>45</td>\n",
       "      <td>45</td>\n",
       "      <td>45</td>\n",
       "      <td>43</td>\n",
       "    </tr>\n",
       "  </tbody>\n",
       "</table>\n",
       "</div>"
      ],
      "text/plain": [
       "        kepid  koi  kepler_pl  period  depth  aR  Kp  Teff  logg  feh  \\\n",
       "nature                                                                  \n",
       "?          18   18         18      18     18  18  18    18    18   18   \n",
       "BD          3    3          3       3      3   3   3     3     3    3   \n",
       "CEB        15   15         15      15     15  15  15    15    15   15   \n",
       "EB         48   48         48      48     48  48  48    48    48   48   \n",
       "planet     45   45         45      45     45  45  45    45    45   45   \n",
       "\n",
       "        reference  FPP  \n",
       "nature                  \n",
       "?              18   18  \n",
       "BD              3    3  \n",
       "CEB            15   13  \n",
       "EB             48   43  \n",
       "planet         45   43  "
      ]
     },
     "execution_count": 3,
     "metadata": {},
     "output_type": "execute_result"
    }
   ],
   "source": [
    "santerne.groupby('nature').count()"
   ]
  },
  {
   "cell_type": "markdown",
   "metadata": {},
   "source": [
    "Here are the summarized results of the `vespa` FPP calculations on the KOI giant planet sample presented in Santerne et al. (2015; arxiv:1511.00643v1), which find a 54.6 +/- 6.5% false positive rate in this sample."
   ]
  },
  {
   "cell_type": "code",
   "execution_count": 4,
   "metadata": {
    "collapsed": false
   },
   "outputs": [
    {
     "name": "stdout",
     "output_type": "stream",
     "text": [
      "nature\n",
      "?         0.309123\n",
      "BD        0.012215\n",
      "CEB       0.783622\n",
      "EB        0.745026\n",
      "planet    0.103960\n",
      "Name: FPP, dtype: float64\n",
      "nature\n",
      "?         0.010170\n",
      "BD        0.002633\n",
      "CEB       0.995000\n",
      "EB        0.966200\n",
      "planet    0.000036\n",
      "Name: FPP, dtype: float64\n",
      "nature\n",
      "?         18\n",
      "BD         3\n",
      "CEB       13\n",
      "EB        43\n",
      "planet    43\n",
      "Name: FPP, dtype: int64\n"
     ]
    }
   ],
   "source": [
    "print santerne.groupby('nature')['FPP'].mean()\n",
    "print santerne.groupby('nature')['FPP'].median()\n",
    "print santerne.groupby('nature')['FPP'].count()"
   ]
  },
  {
   "cell_type": "code",
   "execution_count": 5,
   "metadata": {
    "collapsed": false
   },
   "outputs": [],
   "source": [
    "# nature & mean & median\n",
    "vmean = santerne.groupby('nature')['FPP'].mean()\n",
    "vmedian = santerne.groupby('nature')['FPP'].median()\n",
    "count = santerne.groupby('nature')['FPP'].count()\n",
    "vmean['huh'] = vmean['?']\n",
    "vmedian['huh'] = vmedian['?']\n",
    "count['huh'] = count['?']\n",
    "\n",
    "outfile = open('document/table_santerne.tex', 'w')\n",
    "\n",
    "outfile.write(r'\\begin{deluxetable}{cccc}' + '\\n')\n",
    "outfile.write(r'\\tabletypesize{\\scriptsize}' + '\\n')\n",
    "outfile.write(r'\\tablecaption{\\vespa--calculated FPPs of the \\\\Santerne (2015) RV sample' + '\\n')\n",
    "outfile.write(r'  \\tablabel{santerne}}' + '\\n')\n",
    "outfile.write(r'\\tablehead{\\colhead{RV-based nature} & \\colhead{Number} & \\colhead{mean FPP} & \\colhead{median FPP}}' + '\\n')\n",
    "outfile.write(r'\\startdata' + '\\n')\n",
    "outfile.write('Planet & {2.planet} & {0.planet:.2g} & {1.planet:.2g} \\\\\\\\ \\n'.format(vmean,vmedian,count))\n",
    "outfile.write('Brown dwarf & {2.BD} & {0.BD:.2g} & {1.BD:.2g} \\\\\\\\ \\n'.format(vmean,vmedian,count))\n",
    "outfile.write('Eclipsing binary (EB) & {2.EB} & {0.EB:.2g} & {1.EB:.2g} \\\\\\\\ \\n'.format(vmean,vmedian,count))\n",
    "outfile.write('Contaminating EB & {2.CEB} & {0.CEB:.2g} & {1.CEB:.2g} \\\\\\\\ \\n'.format(vmean,vmedian,count))\n",
    "outfile.write('Undetermined & {2.huh} & {0.huh:.2g} & {1.huh:.2g} \\n'.format(vmean,vmedian,count))\n",
    "outfile.write(r'\\enddata' + '\\n')\n",
    "outfile.write(r'\\end{deluxetable}' + '\\n')\n",
    "outfile.close()"
   ]
  },
  {
   "cell_type": "code",
   "execution_count": 10,
   "metadata": {
    "collapsed": false
   },
   "outputs": [
    {
     "data": {
      "text/plain": [
       "0.43458074180634937"
      ]
     },
     "execution_count": 10,
     "metadata": {},
     "output_type": "execute_result"
    }
   ],
   "source": [
    "santerne['FPP'].mean()"
   ]
  },
  {
   "cell_type": "code",
   "execution_count": 6,
   "metadata": {
    "collapsed": true
   },
   "outputs": [],
   "source": [
    "santerne.to_csv('santerne_sample_with_fpp.csv')"
   ]
  },
  {
   "cell_type": "code",
   "execution_count": 7,
   "metadata": {
    "collapsed": true
   },
   "outputs": [],
   "source": [
    "santerne.index = santerne.koi"
   ]
  },
  {
   "cell_type": "code",
   "execution_count": 8,
   "metadata": {
    "collapsed": false
   },
   "outputs": [
    {
     "data": {
      "text/plain": [
       "kepid                              7368664\n",
       "koi                              K00614.01\n",
       "kepler_pl                             434b\n",
       "period                              12.875\n",
       "depth                                 0.43\n",
       "aR           22.90$^{_{+1.20}}_{^{-1.20}}$\n",
       "Kp                                    14.5\n",
       "Teff            5926$^{_{+154}}_{^{-189}}$\n",
       "logg          4.51$^{_{+0.04}}_{^{-0.24}}$\n",
       "feh          -0.04$^{_{+0.20}}_{^{-0.30}}$\n",
       "nature                              planet\n",
       "reference                             Al15\n",
       "FPP                                  0.468\n",
       "Name: K00614.01, dtype: object"
      ]
     },
     "execution_count": 8,
     "metadata": {},
     "output_type": "execute_result"
    }
   ],
   "source": [
    "santerne.ix['K00614.01']"
   ]
  },
  {
   "cell_type": "code",
   "execution_count": 7,
   "metadata": {
    "collapsed": false
   },
   "outputs": [
    {
     "data": {
      "text/html": [
       "<div>\n",
       "<table border=\"1\" class=\"dataframe\">\n",
       "  <thead>\n",
       "    <tr style=\"text-align: right;\">\n",
       "      <th></th>\n",
       "      <th>kepid</th>\n",
       "      <th>koi</th>\n",
       "      <th>kepler_pl</th>\n",
       "      <th>period</th>\n",
       "      <th>depth</th>\n",
       "      <th>aR</th>\n",
       "      <th>Kp</th>\n",
       "      <th>Teff</th>\n",
       "      <th>logg</th>\n",
       "      <th>feh</th>\n",
       "      <th>nature</th>\n",
       "      <th>reference</th>\n",
       "      <th>FPP</th>\n",
       "    </tr>\n",
       "  </thead>\n",
       "  <tbody>\n",
       "    <tr>\n",
       "      <th>42</th>\n",
       "      <td>3323887</td>\n",
       "      <td>K00377.01</td>\n",
       "      <td>9b</td>\n",
       "      <td>19.271</td>\n",
       "      <td>0.70</td>\n",
       "      <td>36.84$^{_{+4.30}}_{^{-4.30}}$</td>\n",
       "      <td>13.8</td>\n",
       "      <td>5779$^{_{+110}}_{^{-128}}$</td>\n",
       "      <td>4.49$^{_{+0.03}}_{^{-0.16}}$</td>\n",
       "      <td>0.12$^{_{+0.10}}_{^{-0.14}}$</td>\n",
       "      <td>planet</td>\n",
       "      <td>Ho10</td>\n",
       "      <td>0.9568</td>\n",
       "    </tr>\n",
       "    <tr>\n",
       "      <th>55</th>\n",
       "      <td>7368664</td>\n",
       "      <td>K00614.01</td>\n",
       "      <td>434b</td>\n",
       "      <td>12.875</td>\n",
       "      <td>0.43</td>\n",
       "      <td>22.90$^{_{+1.20}}_{^{-1.20}}$</td>\n",
       "      <td>14.5</td>\n",
       "      <td>5926$^{_{+154}}_{^{-189}}$</td>\n",
       "      <td>4.51$^{_{+0.04}}_{^{-0.24}}$</td>\n",
       "      <td>-0.04$^{_{+0.20}}_{^{-0.30}}$</td>\n",
       "      <td>planet</td>\n",
       "      <td>Al15</td>\n",
       "      <td>0.7642</td>\n",
       "    </tr>\n",
       "    <tr>\n",
       "      <th>75</th>\n",
       "      <td>11122894</td>\n",
       "      <td>K01426.02</td>\n",
       "      <td>297c</td>\n",
       "      <td>74.928</td>\n",
       "      <td>0.42</td>\n",
       "      <td>82.40$^{_{+14.90}}_{^{-14.90}}$</td>\n",
       "      <td>14.2</td>\n",
       "      <td>6150$^{_{+151}}_{^{-193}}$</td>\n",
       "      <td>4.42$^{_{+0.06}}_{^{-0.30}}$</td>\n",
       "      <td>-0.12$^{_{+0.22}}_{^{-0.30}}$</td>\n",
       "      <td>planet</td>\n",
       "      <td>Ro14</td>\n",
       "      <td>0.8286</td>\n",
       "    </tr>\n",
       "    <tr>\n",
       "      <th>80</th>\n",
       "      <td>12365184</td>\n",
       "      <td>K01474.01</td>\n",
       "      <td>419b</td>\n",
       "      <td>69.727</td>\n",
       "      <td>0.46</td>\n",
       "      <td>45.17$^{_{+7.80}}_{^{-7.80}}$</td>\n",
       "      <td>13.0</td>\n",
       "      <td>6287$^{_{+106}}_{^{-153}}$</td>\n",
       "      <td>4.24$^{_{+0.10}}_{^{-0.18}}$</td>\n",
       "      <td>0.22$^{_{+0.14}}_{^{-0.20}}$</td>\n",
       "      <td>planet</td>\n",
       "      <td>Da14</td>\n",
       "      <td>0.9968</td>\n",
       "    </tr>\n",
       "  </tbody>\n",
       "</table>\n",
       "</div>"
      ],
      "text/plain": [
       "       kepid        koi kepler_pl  period  depth  \\\n",
       "42   3323887  K00377.01        9b  19.271   0.70   \n",
       "55   7368664  K00614.01      434b  12.875   0.43   \n",
       "75  11122894  K01426.02      297c  74.928   0.42   \n",
       "80  12365184  K01474.01      419b  69.727   0.46   \n",
       "\n",
       "                                 aR    Kp                        Teff  \\\n",
       "42    36.84$^{_{+4.30}}_{^{-4.30}}$  13.8  5779$^{_{+110}}_{^{-128}}$   \n",
       "55    22.90$^{_{+1.20}}_{^{-1.20}}$  14.5  5926$^{_{+154}}_{^{-189}}$   \n",
       "75  82.40$^{_{+14.90}}_{^{-14.90}}$  14.2  6150$^{_{+151}}_{^{-193}}$   \n",
       "80    45.17$^{_{+7.80}}_{^{-7.80}}$  13.0  6287$^{_{+106}}_{^{-153}}$   \n",
       "\n",
       "                            logg                            feh  nature  \\\n",
       "42  4.49$^{_{+0.03}}_{^{-0.16}}$   0.12$^{_{+0.10}}_{^{-0.14}}$  planet   \n",
       "55  4.51$^{_{+0.04}}_{^{-0.24}}$  -0.04$^{_{+0.20}}_{^{-0.30}}$  planet   \n",
       "75  4.42$^{_{+0.06}}_{^{-0.30}}$  -0.12$^{_{+0.22}}_{^{-0.30}}$  planet   \n",
       "80  4.24$^{_{+0.10}}_{^{-0.18}}$   0.22$^{_{+0.14}}_{^{-0.20}}$  planet   \n",
       "\n",
       "   reference     FPP  \n",
       "42      Ho10  0.9568  \n",
       "55      Al15  0.7642  \n",
       "75      Ro14  0.8286  \n",
       "80      Da14  0.9968  "
      ]
     },
     "execution_count": 7,
     "metadata": {},
     "output_type": "execute_result"
    }
   ],
   "source": [
    "santerne.query('nature==\"planet\" and FPP > 0.5')"
   ]
  },
  {
   "cell_type": "code",
   "execution_count": 12,
   "metadata": {
    "collapsed": false
   },
   "outputs": [
    {
     "data": {
      "text/plain": [
       "koi.1                         K00368.01\n",
       "rprs                              0.084\n",
       "secthresh                            40\n",
       "maxrad                              0.6\n",
       "pr_heb                         6.84e-07\n",
       "pr_heb_Px2                     7.88e-12\n",
       "pr_eb                          4.75e-05\n",
       "pr_eb_Px2                      6.69e-09\n",
       "pr_beb                         0.000191\n",
       "pr_beb_Px2                     8.18e-18\n",
       "L_tot                             3.061\n",
       "fp                                0.056\n",
       "FPP                             0.00024\n",
       "kepid                           6603043\n",
       "period                          110.322\n",
       "rp                              16.1946\n",
       "disposition              FALSE POSITIVE\n",
       "prob_ontarget                         1\n",
       "pos_prob_score                        1\n",
       "not_transitlike                   False\n",
       "significant_secondary              True\n",
       "centroid_offset                   False\n",
       "ephem_match                       False\n",
       "MES                             1688.58\n",
       "exception                           NaN\n",
       "has_ttv                           False\n",
       "n_cands                               1\n",
       "Name: K00368.01, dtype: object"
      ]
     },
     "execution_count": 12,
     "metadata": {},
     "output_type": "execute_result"
    }
   ],
   "source": [
    "fpp_all.ix['K00368.01']"
   ]
  },
  {
   "cell_type": "markdown",
   "metadata": {},
   "source": [
    "Now, let's look for a minute into single transits: "
   ]
  },
  {
   "cell_type": "code",
   "execution_count": 10,
   "metadata": {
    "collapsed": false
   },
   "outputs": [],
   "source": [
    "import koiutils as ku\n",
    "n_cands = []\n",
    "for k in fpp_all.index:\n",
    "    try:\n",
    "        n_cands.append(ku.get_ncands(k))\n",
    "    except:\n",
    "        n_cands.append(np.nan)\n",
    "        \n",
    "fpp_all['n_cands'] = n_cands"
   ]
  },
  {
   "cell_type": "code",
   "execution_count": 12,
   "metadata": {
    "collapsed": false
   },
   "outputs": [
    {
     "data": {
      "text/plain": [
       "count    2142.000000\n",
       "mean        0.195576\n",
       "std         0.354793\n",
       "min         0.000000\n",
       "25%         0.000192\n",
       "50%         0.003970\n",
       "75%         0.139750\n",
       "max         1.000000\n",
       "Name: FPP, dtype: float64"
      ]
     },
     "execution_count": 12,
     "metadata": {},
     "output_type": "execute_result"
    }
   ],
   "source": [
    "fpp_all.query('n_cands == 1 and disposition==\"CANDIDATE\"')['FPP'].describe()"
   ]
  },
  {
   "cell_type": "code",
   "execution_count": null,
   "metadata": {
    "collapsed": true
   },
   "outputs": [],
   "source": []
  }
 ],
 "metadata": {
  "kernelspec": {
   "display_name": "Python 2",
   "language": "python",
   "name": "python2"
  },
  "language_info": {
   "codemirror_mode": {
    "name": "ipython",
    "version": 2
   },
   "file_extension": ".py",
   "mimetype": "text/x-python",
   "name": "python",
   "nbconvert_exporter": "python",
   "pygments_lexer": "ipython2",
   "version": "2.7.11"
  }
 },
 "nbformat": 4,
 "nbformat_minor": 0
}
