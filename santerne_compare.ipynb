{
 "cells": [
  {
   "cell_type": "code",
   "execution_count": 1,
   "metadata": {
    "collapsed": false
   },
   "outputs": [
    {
     "data": {
      "text/plain": [
       "koi.1                    7470\n",
       "rprs                     7202\n",
       "secthresh                7202\n",
       "maxrad                   7202\n",
       "pr_heb                   7048\n",
       "pr_heb_Px2               7048\n",
       "pr_eb                    7048\n",
       "pr_eb_Px2                7048\n",
       "pr_beb                   7048\n",
       "pr_beb_Px2               7048\n",
       "L_tot                    7052\n",
       "fp                       7052\n",
       "FPP                      7048\n",
       "kepid                    7470\n",
       "period                   7470\n",
       "rp                       7128\n",
       "disposition              7470\n",
       "prob_ontarget            6786\n",
       "pos_prob_score           7470\n",
       "not_transitlike          7470\n",
       "significant_secondary    7470\n",
       "centroid_offset          7470\n",
       "ephem_match              7470\n",
       "MES                      7470\n",
       "exception                 418\n",
       "has_ttv                  7268\n",
       "dtype: int64"
      ]
     },
     "execution_count": 1,
     "metadata": {},
     "output_type": "execute_result"
    }
   ],
   "source": [
    "import numpy as np\n",
    "import pandas as pd\n",
    "\n",
    "fpp_all = pd.read_csv('fpp_final_table.csv', index_col=0)\n",
    "fpp_all.count()"
   ]
  },
  {
   "cell_type": "code",
   "execution_count": 2,
   "metadata": {
    "collapsed": false
   },
   "outputs": [
    {
     "name": "stderr",
     "output_type": "stream",
     "text": [
      "/Users/tdm/anaconda/lib/python2.7/site-packages/pandas/io/parsers.py:648: ParserWarning: Falling back to the 'python' engine because the 'c' engine does not support regex separators; you can avoid this warning by specifying engine='python'.\n",
      "  ParserWarning)\n"
     ]
    }
   ],
   "source": [
    "columns = ['kepid', 'koi', 'kepler_pl', 'period','depth','aR','Kp',\n",
    "           'Teff','logg','feh','nature','reference']\n",
    "\n",
    "from keputils.koiutils import koiname\n",
    "santerne = pd.read_table('TargetSelection.tex', delimiter='\\s*&\\s*',\n",
    "                        names=columns)\n",
    "santerne['koi'] = santerne.koi.apply(koiname)\n",
    "santerne['FPP'] = fpp_all.ix[santerne.koi,'FPP'].values"
   ]
  },
  {
   "cell_type": "code",
   "execution_count": 4,
   "metadata": {
    "collapsed": false
   },
   "outputs": [
    {
     "data": {
      "text/html": [
       "<div>\n",
       "<table border=\"1\" class=\"dataframe\">\n",
       "  <thead>\n",
       "    <tr style=\"text-align: right;\">\n",
       "      <th></th>\n",
       "      <th>kepid</th>\n",
       "      <th>koi</th>\n",
       "      <th>kepler_pl</th>\n",
       "      <th>period</th>\n",
       "      <th>depth</th>\n",
       "      <th>aR</th>\n",
       "      <th>Kp</th>\n",
       "      <th>Teff</th>\n",
       "      <th>logg</th>\n",
       "      <th>feh</th>\n",
       "      <th>reference</th>\n",
       "      <th>FPP</th>\n",
       "    </tr>\n",
       "    <tr>\n",
       "      <th>nature</th>\n",
       "      <th></th>\n",
       "      <th></th>\n",
       "      <th></th>\n",
       "      <th></th>\n",
       "      <th></th>\n",
       "      <th></th>\n",
       "      <th></th>\n",
       "      <th></th>\n",
       "      <th></th>\n",
       "      <th></th>\n",
       "      <th></th>\n",
       "      <th></th>\n",
       "    </tr>\n",
       "  </thead>\n",
       "  <tbody>\n",
       "    <tr>\n",
       "      <th>?</th>\n",
       "      <td>18</td>\n",
       "      <td>18</td>\n",
       "      <td>18</td>\n",
       "      <td>18</td>\n",
       "      <td>18</td>\n",
       "      <td>18</td>\n",
       "      <td>18</td>\n",
       "      <td>18</td>\n",
       "      <td>18</td>\n",
       "      <td>18</td>\n",
       "      <td>18</td>\n",
       "      <td>18</td>\n",
       "    </tr>\n",
       "    <tr>\n",
       "      <th>BD</th>\n",
       "      <td>3</td>\n",
       "      <td>3</td>\n",
       "      <td>3</td>\n",
       "      <td>3</td>\n",
       "      <td>3</td>\n",
       "      <td>3</td>\n",
       "      <td>3</td>\n",
       "      <td>3</td>\n",
       "      <td>3</td>\n",
       "      <td>3</td>\n",
       "      <td>3</td>\n",
       "      <td>3</td>\n",
       "    </tr>\n",
       "    <tr>\n",
       "      <th>CEB</th>\n",
       "      <td>15</td>\n",
       "      <td>15</td>\n",
       "      <td>15</td>\n",
       "      <td>15</td>\n",
       "      <td>15</td>\n",
       "      <td>15</td>\n",
       "      <td>15</td>\n",
       "      <td>15</td>\n",
       "      <td>15</td>\n",
       "      <td>15</td>\n",
       "      <td>15</td>\n",
       "      <td>13</td>\n",
       "    </tr>\n",
       "    <tr>\n",
       "      <th>EB</th>\n",
       "      <td>48</td>\n",
       "      <td>48</td>\n",
       "      <td>48</td>\n",
       "      <td>48</td>\n",
       "      <td>48</td>\n",
       "      <td>48</td>\n",
       "      <td>48</td>\n",
       "      <td>48</td>\n",
       "      <td>48</td>\n",
       "      <td>48</td>\n",
       "      <td>48</td>\n",
       "      <td>43</td>\n",
       "    </tr>\n",
       "    <tr>\n",
       "      <th>planet</th>\n",
       "      <td>45</td>\n",
       "      <td>45</td>\n",
       "      <td>45</td>\n",
       "      <td>45</td>\n",
       "      <td>45</td>\n",
       "      <td>45</td>\n",
       "      <td>45</td>\n",
       "      <td>45</td>\n",
       "      <td>45</td>\n",
       "      <td>45</td>\n",
       "      <td>45</td>\n",
       "      <td>43</td>\n",
       "    </tr>\n",
       "  </tbody>\n",
       "</table>\n",
       "</div>"
      ],
      "text/plain": [
       "        kepid  koi  kepler_pl  period  depth  aR  Kp  Teff  logg  feh  \\\n",
       "nature                                                                  \n",
       "?          18   18         18      18     18  18  18    18    18   18   \n",
       "BD          3    3          3       3      3   3   3     3     3    3   \n",
       "CEB        15   15         15      15     15  15  15    15    15   15   \n",
       "EB         48   48         48      48     48  48  48    48    48   48   \n",
       "planet     45   45         45      45     45  45  45    45    45   45   \n",
       "\n",
       "        reference  FPP  \n",
       "nature                  \n",
       "?              18   18  \n",
       "BD              3    3  \n",
       "CEB            15   13  \n",
       "EB             48   43  \n",
       "planet         45   43  "
      ]
     },
     "execution_count": 4,
     "metadata": {},
     "output_type": "execute_result"
    }
   ],
   "source": [
    "santerne.groupby('nature').count()"
   ]
  },
  {
   "cell_type": "code",
   "execution_count": 3,
   "metadata": {
    "collapsed": false
   },
   "outputs": [
    {
     "data": {
      "text/html": [
       "<div>\n",
       "<table border=\"1\" class=\"dataframe\">\n",
       "  <thead>\n",
       "    <tr style=\"text-align: right;\">\n",
       "      <th></th>\n",
       "      <th>koi</th>\n",
       "      <th>nature</th>\n",
       "      <th>FPP</th>\n",
       "    </tr>\n",
       "  </thead>\n",
       "  <tbody>\n",
       "    <tr>\n",
       "      <th>0</th>\n",
       "      <td>K00001.01</td>\n",
       "      <td>planet</td>\n",
       "      <td>0.015000</td>\n",
       "    </tr>\n",
       "    <tr>\n",
       "      <th>1</th>\n",
       "      <td>K00002.01</td>\n",
       "      <td>planet</td>\n",
       "      <td>0.000014</td>\n",
       "    </tr>\n",
       "    <tr>\n",
       "      <th>2</th>\n",
       "      <td>K00003.01</td>\n",
       "      <td>planet</td>\n",
       "      <td>0.000004</td>\n",
       "    </tr>\n",
       "    <tr>\n",
       "      <th>3</th>\n",
       "      <td>K00010.01</td>\n",
       "      <td>planet</td>\n",
       "      <td>0.000065</td>\n",
       "    </tr>\n",
       "    <tr>\n",
       "      <th>4</th>\n",
       "      <td>K00012.01</td>\n",
       "      <td>planet</td>\n",
       "      <td>0.052600</td>\n",
       "    </tr>\n",
       "  </tbody>\n",
       "</table>\n",
       "</div>"
      ],
      "text/plain": [
       "         koi  nature       FPP\n",
       "0  K00001.01  planet  0.015000\n",
       "1  K00002.01  planet  0.000014\n",
       "2  K00003.01  planet  0.000004\n",
       "3  K00010.01  planet  0.000065\n",
       "4  K00012.01  planet  0.052600"
      ]
     },
     "execution_count": 3,
     "metadata": {},
     "output_type": "execute_result"
    }
   ],
   "source": [
    "santerne[['koi','nature','FPP']].head()"
   ]
  },
  {
   "cell_type": "markdown",
   "metadata": {},
   "source": [
    "Here are the summarized results of the `vespa` FPP calculations on the KOI giant planet sample presented in Santerne et al. (2015; arxiv:1511.00643v1), which find a 54.6 +/- 6.5% false positive rate in this sample."
   ]
  },
  {
   "cell_type": "code",
   "execution_count": 6,
   "metadata": {
    "collapsed": false
   },
   "outputs": [
    {
     "name": "stdout",
     "output_type": "stream",
     "text": [
      "nature\n",
      "?         0.239273\n",
      "BD        0.003463\n",
      "CEB       0.832615\n",
      "EB        0.776397\n",
      "planet    0.089198\n",
      "Name: FPP, dtype: float64\n",
      "nature\n",
      "?         0.003235\n",
      "BD        0.003840\n",
      "CEB       0.995000\n",
      "EB        0.945000\n",
      "planet    0.000195\n",
      "Name: FPP, dtype: float64\n"
     ]
    }
   ],
   "source": [
    "print santerne.groupby('nature')['FPP'].mean()\n",
    "print santerne.groupby('nature')['FPP'].median()"
   ]
  },
  {
   "cell_type": "code",
   "execution_count": 10,
   "metadata": {
    "collapsed": false
   },
   "outputs": [
    {
     "name": "stdout",
     "output_type": "stream",
     "text": [
      "planet & 0.0892 & 0.0002 \\\\\n",
      "BD & 0.0035 & 0.0038 \\\\\n",
      "EB & 0.7764 & 0.9450 \\\\\n",
      "CEB & 0.8326 & 0.9950 \\\\\n",
      "? & 0.2393 & 0.0032\n"
     ]
    }
   ],
   "source": [
    "# nature & mean & median\n",
    "vmean = santerne.groupby('nature')['FPP'].mean()\n",
    "vmedian = santerne.groupby('nature')['FPP'].median()\n",
    "vmean['huh'] = vmean['?']\n",
    "vmedian['huh'] = vmedian['?']\n",
    "print('planet & {0.planet:.4f} & {1.planet:.4f} \\\\\\\\'.format(vmean,vmedian))\n",
    "print('BD & {0.BD:.4f} & {1.BD:.4f} \\\\\\\\'.format(vmean,vmedian))\n",
    "print('EB & {0.EB:.4f} & {1.EB:.4f} \\\\\\\\'.format(vmean,vmedian))\n",
    "print('CEB & {0.CEB:.4f} & {1.CEB:.4f} \\\\\\\\'.format(vmean,vmedian))\n",
    "print('? & {0.huh:.4f} & {1.huh:.4f}'.format(vmean,vmedian))"
   ]
  },
  {
   "cell_type": "code",
   "execution_count": 5,
   "metadata": {
    "collapsed": false
   },
   "outputs": [
    {
     "data": {
      "text/plain": [
       "0.4363491218336184"
      ]
     },
     "execution_count": 5,
     "metadata": {},
     "output_type": "execute_result"
    }
   ],
   "source": [
    "santerne['FPP'].mean()"
   ]
  },
  {
   "cell_type": "code",
   "execution_count": 6,
   "metadata": {
    "collapsed": true
   },
   "outputs": [],
   "source": [
    "santerne.to_csv('santerne_sample_with_fpp.csv')"
   ]
  },
  {
   "cell_type": "code",
   "execution_count": 7,
   "metadata": {
    "collapsed": true
   },
   "outputs": [],
   "source": [
    "santerne.index = santerne.koi"
   ]
  },
  {
   "cell_type": "code",
   "execution_count": 8,
   "metadata": {
    "collapsed": false
   },
   "outputs": [
    {
     "data": {
      "text/plain": [
       "kepid                              7368664\n",
       "koi                              K00614.01\n",
       "kepler_pl                             434b\n",
       "period                              12.875\n",
       "depth                                 0.43\n",
       "aR           22.90$^{_{+1.20}}_{^{-1.20}}$\n",
       "Kp                                    14.5\n",
       "Teff            5926$^{_{+154}}_{^{-189}}$\n",
       "logg          4.51$^{_{+0.04}}_{^{-0.24}}$\n",
       "feh          -0.04$^{_{+0.20}}_{^{-0.30}}$\n",
       "nature                              planet\n",
       "reference                             Al15\n",
       "FPP                                  0.468\n",
       "Name: K00614.01, dtype: object"
      ]
     },
     "execution_count": 8,
     "metadata": {},
     "output_type": "execute_result"
    }
   ],
   "source": [
    "santerne.ix['K00614.01']"
   ]
  },
  {
   "cell_type": "code",
   "execution_count": 15,
   "metadata": {
    "collapsed": false
   },
   "outputs": [
    {
     "data": {
      "text/html": [
       "<div>\n",
       "<table border=\"1\" class=\"dataframe\">\n",
       "  <thead>\n",
       "    <tr style=\"text-align: right;\">\n",
       "      <th></th>\n",
       "      <th>kepid</th>\n",
       "      <th>koi</th>\n",
       "      <th>kepler_pl</th>\n",
       "      <th>period</th>\n",
       "      <th>depth</th>\n",
       "      <th>aR</th>\n",
       "      <th>Kp</th>\n",
       "      <th>Teff</th>\n",
       "      <th>logg</th>\n",
       "      <th>feh</th>\n",
       "      <th>nature</th>\n",
       "      <th>reference</th>\n",
       "      <th>FPP</th>\n",
       "    </tr>\n",
       "  </thead>\n",
       "  <tbody>\n",
       "    <tr>\n",
       "      <th>42</th>\n",
       "      <td>3323887</td>\n",
       "      <td>K00377.01</td>\n",
       "      <td>9b</td>\n",
       "      <td>19.271</td>\n",
       "      <td>0.70</td>\n",
       "      <td>36.84$^{_{+4.30}}_{^{-4.30}}$</td>\n",
       "      <td>13.8</td>\n",
       "      <td>5779$^{_{+110}}_{^{-128}}$</td>\n",
       "      <td>4.49$^{_{+0.03}}_{^{-0.16}}$</td>\n",
       "      <td>0.12$^{_{+0.10}}_{^{-0.14}}$</td>\n",
       "      <td>planet</td>\n",
       "      <td>Ho10</td>\n",
       "      <td>0.990</td>\n",
       "    </tr>\n",
       "    <tr>\n",
       "      <th>55</th>\n",
       "      <td>7368664</td>\n",
       "      <td>K00614.01</td>\n",
       "      <td>434b</td>\n",
       "      <td>12.875</td>\n",
       "      <td>0.43</td>\n",
       "      <td>22.90$^{_{+1.20}}_{^{-1.20}}$</td>\n",
       "      <td>14.5</td>\n",
       "      <td>5926$^{_{+154}}_{^{-189}}$</td>\n",
       "      <td>4.51$^{_{+0.04}}_{^{-0.24}}$</td>\n",
       "      <td>-0.04$^{_{+0.20}}_{^{-0.30}}$</td>\n",
       "      <td>planet</td>\n",
       "      <td>Al15</td>\n",
       "      <td>0.468</td>\n",
       "    </tr>\n",
       "    <tr>\n",
       "      <th>75</th>\n",
       "      <td>11122894</td>\n",
       "      <td>K01426.02</td>\n",
       "      <td>297c</td>\n",
       "      <td>74.928</td>\n",
       "      <td>0.42</td>\n",
       "      <td>82.40$^{_{+14.90}}_{^{-14.90}}$</td>\n",
       "      <td>14.2</td>\n",
       "      <td>6150$^{_{+151}}_{^{-193}}$</td>\n",
       "      <td>4.42$^{_{+0.06}}_{^{-0.30}}$</td>\n",
       "      <td>-0.12$^{_{+0.22}}_{^{-0.30}}$</td>\n",
       "      <td>planet</td>\n",
       "      <td>Ro14</td>\n",
       "      <td>0.596</td>\n",
       "    </tr>\n",
       "    <tr>\n",
       "      <th>80</th>\n",
       "      <td>12365184</td>\n",
       "      <td>K01474.01</td>\n",
       "      <td>419b</td>\n",
       "      <td>69.727</td>\n",
       "      <td>0.46</td>\n",
       "      <td>45.17$^{_{+7.80}}_{^{-7.80}}$</td>\n",
       "      <td>13.0</td>\n",
       "      <td>6287$^{_{+106}}_{^{-153}}$</td>\n",
       "      <td>4.24$^{_{+0.10}}_{^{-0.18}}$</td>\n",
       "      <td>0.22$^{_{+0.14}}_{^{-0.20}}$</td>\n",
       "      <td>planet</td>\n",
       "      <td>Da14</td>\n",
       "      <td>0.992</td>\n",
       "    </tr>\n",
       "  </tbody>\n",
       "</table>\n",
       "</div>"
      ],
      "text/plain": [
       "       kepid        koi kepler_pl  period  depth  \\\n",
       "42   3323887  K00377.01        9b  19.271   0.70   \n",
       "55   7368664  K00614.01      434b  12.875   0.43   \n",
       "75  11122894  K01426.02      297c  74.928   0.42   \n",
       "80  12365184  K01474.01      419b  69.727   0.46   \n",
       "\n",
       "                                 aR    Kp                        Teff  \\\n",
       "42    36.84$^{_{+4.30}}_{^{-4.30}}$  13.8  5779$^{_{+110}}_{^{-128}}$   \n",
       "55    22.90$^{_{+1.20}}_{^{-1.20}}$  14.5  5926$^{_{+154}}_{^{-189}}$   \n",
       "75  82.40$^{_{+14.90}}_{^{-14.90}}$  14.2  6150$^{_{+151}}_{^{-193}}$   \n",
       "80    45.17$^{_{+7.80}}_{^{-7.80}}$  13.0  6287$^{_{+106}}_{^{-153}}$   \n",
       "\n",
       "                            logg                            feh  nature  \\\n",
       "42  4.49$^{_{+0.03}}_{^{-0.16}}$   0.12$^{_{+0.10}}_{^{-0.14}}$  planet   \n",
       "55  4.51$^{_{+0.04}}_{^{-0.24}}$  -0.04$^{_{+0.20}}_{^{-0.30}}$  planet   \n",
       "75  4.42$^{_{+0.06}}_{^{-0.30}}$  -0.12$^{_{+0.22}}_{^{-0.30}}$  planet   \n",
       "80  4.24$^{_{+0.10}}_{^{-0.18}}$   0.22$^{_{+0.14}}_{^{-0.20}}$  planet   \n",
       "\n",
       "   reference    FPP  \n",
       "42      Ho10  0.990  \n",
       "55      Al15  0.468  \n",
       "75      Ro14  0.596  \n",
       "80      Da14  0.992  "
      ]
     },
     "execution_count": 15,
     "metadata": {},
     "output_type": "execute_result"
    }
   ],
   "source": [
    "santerne.query('nature==\"planet\" and FPP > 0.3')"
   ]
  },
  {
   "cell_type": "code",
   "execution_count": 55,
   "metadata": {
    "collapsed": false
   },
   "outputs": [
    {
     "data": {
      "text/plain": [
       "koi.1                         K00368.01\n",
       "rprs                              0.084\n",
       "secthresh                            40\n",
       "maxrad                              0.6\n",
       "pr_heb                         0.000192\n",
       "pr_heb_Px2                     2.14e-22\n",
       "pr_eb                            0.0221\n",
       "pr_eb_Px2                      8.11e-25\n",
       "pr_beb                         3.07e-06\n",
       "pr_beb_Px2                     3.21e-31\n",
       "L_tot                             3.672\n",
       "fp                                0.055\n",
       "FPP                              0.0223\n",
       "kepid                           6603043\n",
       "period                         110.3217\n",
       "rp                             16.14879\n",
       "disposition              FALSE POSITIVE\n",
       "prob_ontarget                         1\n",
       "pos_prob_score                        1\n",
       "not_transitlike                   False\n",
       "significant_secondary              True\n",
       "centroid_offset                   False\n",
       "ephem_match                       False\n",
       "MES                            1688.579\n",
       "exception                           NaN\n",
       "has_ttv                           False\n",
       "Name: K00368.01, dtype: object"
      ]
     },
     "execution_count": 55,
     "metadata": {},
     "output_type": "execute_result"
    }
   ],
   "source": [
    "fpp_all.ix['K00368.01']"
   ]
  },
  {
   "cell_type": "markdown",
   "metadata": {},
   "source": [
    "Now, let's look for a minute into single transits: "
   ]
  },
  {
   "cell_type": "code",
   "execution_count": 10,
   "metadata": {
    "collapsed": false
   },
   "outputs": [],
   "source": [
    "import koiutils as ku\n",
    "n_cands = []\n",
    "for k in fpp_all.index:\n",
    "    try:\n",
    "        n_cands.append(ku.get_ncands(k))\n",
    "    except:\n",
    "        n_cands.append(np.nan)\n",
    "        \n",
    "fpp_all['n_cands'] = n_cands"
   ]
  },
  {
   "cell_type": "code",
   "execution_count": 12,
   "metadata": {
    "collapsed": false
   },
   "outputs": [
    {
     "data": {
      "text/plain": [
       "count    2142.000000\n",
       "mean        0.195576\n",
       "std         0.354793\n",
       "min         0.000000\n",
       "25%         0.000192\n",
       "50%         0.003970\n",
       "75%         0.139750\n",
       "max         1.000000\n",
       "Name: FPP, dtype: float64"
      ]
     },
     "execution_count": 12,
     "metadata": {},
     "output_type": "execute_result"
    }
   ],
   "source": [
    "fpp_all.query('n_cands == 1 and disposition==\"CANDIDATE\"')['FPP'].describe()"
   ]
  },
  {
   "cell_type": "code",
   "execution_count": null,
   "metadata": {
    "collapsed": true
   },
   "outputs": [],
   "source": []
  }
 ],
 "metadata": {
  "kernelspec": {
   "display_name": "Python 2",
   "language": "python",
   "name": "python2"
  },
  "language_info": {
   "codemirror_mode": {
    "name": "ipython",
    "version": 2
   },
   "file_extension": ".py",
   "mimetype": "text/x-python",
   "name": "python",
   "nbconvert_exporter": "python",
   "pygments_lexer": "ipython2",
   "version": "2.7.10"
  }
 },
 "nbformat": 4,
 "nbformat_minor": 0
}
