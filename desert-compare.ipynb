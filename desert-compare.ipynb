{
 "cells": [
  {
   "cell_type": "code",
   "execution_count": 2,
   "metadata": {
    "collapsed": false
   },
   "outputs": [
    {
     "data": {
      "text/plain": [
       "koi.1                    7470\n",
       "rprs                     7202\n",
       "secthresh                7202\n",
       "maxrad                   7202\n",
       "pr_heb                   7026\n",
       "pr_heb_Px2               7026\n",
       "pr_eb                    7026\n",
       "pr_eb_Px2                7026\n",
       "pr_beb                   7026\n",
       "pr_beb_Px2               7026\n",
       "L_tot                    7049\n",
       "fp                       7049\n",
       "FPP                      7026\n",
       "kepid                    7470\n",
       "period                   7470\n",
       "rp                       7128\n",
       "disposition              7470\n",
       "prob_ontarget            6790\n",
       "pos_prob_score           7470\n",
       "not_transitlike          7470\n",
       "significant_secondary    7470\n",
       "centroid_offset          7470\n",
       "ephem_match              7470\n",
       "MES                      7470\n",
       "exception                 421\n",
       "has_ttv                  7268\n",
       "n_cands                  7470\n",
       "dtype: int64"
      ]
     },
     "execution_count": 2,
     "metadata": {},
     "output_type": "execute_result"
    }
   ],
   "source": [
    "import numpy as np\n",
    "import pandas as pd\n",
    "\n",
    "fpp_all = pd.read_csv('fpp_final_table.csv', index_col=0)\n",
    "fpp_all.count()"
   ]
  },
  {
   "cell_type": "code",
   "execution_count": 3,
   "metadata": {
    "collapsed": false
   },
   "outputs": [
    {
     "name": "stderr",
     "output_type": "stream",
     "text": [
      "/u/tdm/anaconda/lib/python2.7/site-packages/IPython/kernel/__main__.py:5: ParserWarning: Falling back to the 'python' engine because the 'c' engine does not support regex separators; you can avoid this warning by specifying engine='python'.\n"
     ]
    }
   ],
   "source": [
    "columns = ['KOI','sigma','l','b','kepmag','AO','centroid','fpp_desert','comments']\n",
    "\n",
    "from keputils.koiutils import koiname\n",
    "desert = pd.read_table('desert.tex', delimiter='\\s*&\\s*',\n",
    "                        names=columns)\n",
    "desert['koi'] = desert.KOI.apply(koiname)\n",
    "desert['FPP'] = fpp_all.ix[desert.koi,'FPP'].values"
   ]
  },
  {
   "cell_type": "code",
   "execution_count": 4,
   "metadata": {
    "collapsed": false
   },
   "outputs": [
    {
     "data": {
      "text/html": [
       "<div>\n",
       "<table border=\"1\" class=\"dataframe\">\n",
       "  <thead>\n",
       "    <tr style=\"text-align: right;\">\n",
       "      <th></th>\n",
       "      <th>KOI</th>\n",
       "      <th>sigma</th>\n",
       "      <th>fpp_desert</th>\n",
       "      <th>FPP</th>\n",
       "      <th>comments</th>\n",
       "    </tr>\n",
       "  </thead>\n",
       "  <tbody>\n",
       "    <tr>\n",
       "      <th>12</th>\n",
       "      <td>103.01</td>\n",
       "      <td>0.4</td>\n",
       "      <td>2.85</td>\n",
       "      <td>0.7150</td>\n",
       "      <td>TTVs\\\\</td>\n",
       "    </tr>\n",
       "    <tr>\n",
       "      <th>17</th>\n",
       "      <td>244.01</td>\n",
       "      <td>0.5</td>\n",
       "      <td>0.24</td>\n",
       "      <td>0.1710</td>\n",
       "      <td>Kepler-25c \\cite{Steffen12} \\\\</td>\n",
       "    </tr>\n",
       "    <tr>\n",
       "      <th>21</th>\n",
       "      <td>247.01</td>\n",
       "      <td>0.5</td>\n",
       "      <td>0.68</td>\n",
       "      <td>0.7980</td>\n",
       "      <td>\\\\</td>\n",
       "    </tr>\n",
       "    <tr>\n",
       "      <th>22</th>\n",
       "      <td>248.01</td>\n",
       "      <td>1.7</td>\n",
       "      <td>1.13</td>\n",
       "      <td>0.0370</td>\n",
       "      <td>Kepler-49b \\cite{Steffen13} \\\\</td>\n",
       "    </tr>\n",
       "    <tr>\n",
       "      <th>23</th>\n",
       "      <td>248.02</td>\n",
       "      <td>0.3</td>\n",
       "      <td>1.32</td>\n",
       "      <td>0.9990</td>\n",
       "      <td>Kepler-49c \\cite{Steffen13} \\\\</td>\n",
       "    </tr>\n",
       "    <tr>\n",
       "      <th>32</th>\n",
       "      <td>273.01</td>\n",
       "      <td>0.2</td>\n",
       "      <td>0.72</td>\n",
       "      <td>0.0797</td>\n",
       "      <td>\\\\</td>\n",
       "    </tr>\n",
       "    <tr>\n",
       "      <th>35</th>\n",
       "      <td>87.01</td>\n",
       "      <td>2.9</td>\n",
       "      <td>0.70</td>\n",
       "      <td>0.0221</td>\n",
       "      <td>Kepler-22b \\cite{Borucki12} \\\\</td>\n",
       "    </tr>\n",
       "    <tr>\n",
       "      <th>39</th>\n",
       "      <td>555.02</td>\n",
       "      <td>0.2</td>\n",
       "      <td>34.51</td>\n",
       "      <td>0.1030</td>\n",
       "      <td>\\\\</td>\n",
       "    </tr>\n",
       "  </tbody>\n",
       "</table>\n",
       "</div>"
      ],
      "text/plain": [
       "       KOI  sigma  fpp_desert     FPP                        comments\n",
       "12  103.01    0.4        2.85  0.7150                          TTVs\\\\\n",
       "17  244.01    0.5        0.24  0.1710  Kepler-25c \\cite{Steffen12} \\\\\n",
       "21  247.01    0.5        0.68  0.7980                              \\\\\n",
       "22  248.01    1.7        1.13  0.0370  Kepler-49b \\cite{Steffen13} \\\\\n",
       "23  248.02    0.3        1.32  0.9990  Kepler-49c \\cite{Steffen13} \\\\\n",
       "32  273.01    0.2        0.72  0.0797                              \\\\\n",
       "35   87.01    2.9        0.70  0.0221  Kepler-22b \\cite{Borucki12} \\\\\n",
       "39  555.02    0.2       34.51  0.1030                              \\\\"
      ]
     },
     "execution_count": 4,
     "metadata": {},
     "output_type": "execute_result"
    }
   ],
   "source": [
    "desert.query('FPP>0.01')[['KOI','sigma','fpp_desert','FPP','comments']]"
   ]
  },
  {
   "cell_type": "code",
   "execution_count": 4,
   "metadata": {
    "collapsed": false
   },
   "outputs": [
    {
     "data": {
      "text/plain": [
       "count    5.000000e+01\n",
       "mean     7.172933e-02\n",
       "std      2.386268e-01\n",
       "min      3.840000e-11\n",
       "25%      5.485000e-06\n",
       "50%      5.975000e-05\n",
       "75%      1.267250e-03\n",
       "max      9.960000e-01\n",
       "Name: FPP, dtype: float64"
      ]
     },
     "execution_count": 4,
     "metadata": {},
     "output_type": "execute_result"
    }
   ],
   "source": [
    "desert['FPP'].describe()"
   ]
  },
  {
   "cell_type": "code",
   "execution_count": 5,
   "metadata": {
    "collapsed": false
   },
   "outputs": [
    {
     "data": {
      "text/plain": [
       "3"
      ]
     },
     "execution_count": 5,
     "metadata": {},
     "output_type": "execute_result"
    }
   ],
   "source": [
    "sum(desert['FPP']>0.8)"
   ]
  },
  {
   "cell_type": "code",
   "execution_count": 6,
   "metadata": {
    "collapsed": false
   },
   "outputs": [
    {
     "data": {
      "text/plain": [
       "44"
      ]
     },
     "execution_count": 6,
     "metadata": {},
     "output_type": "execute_result"
    }
   ],
   "source": [
    "sum(desert['FPP']<0.01)"
   ]
  },
  {
   "cell_type": "code",
   "execution_count": null,
   "metadata": {
    "collapsed": true
   },
   "outputs": [],
   "source": []
  }
 ],
 "metadata": {
  "kernelspec": {
   "display_name": "Python 2",
   "language": "python",
   "name": "python2"
  },
  "language_info": {
   "codemirror_mode": {
    "name": "ipython",
    "version": 2
   },
   "file_extension": ".py",
   "mimetype": "text/x-python",
   "name": "python",
   "nbconvert_exporter": "python",
   "pygments_lexer": "ipython2",
   "version": "2.7.11"
  }
 },
 "nbformat": 4,
 "nbformat_minor": 0
}
